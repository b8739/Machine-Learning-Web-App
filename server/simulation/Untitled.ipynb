{
 "cells": [
  {
   "cell_type": "code",
   "execution_count": 7,
   "id": "cff87f15",
   "metadata": {},
   "outputs": [
    {
     "ename": "ModuleNotFoundError",
     "evalue": "No module named 'numpy'",
     "output_type": "error",
     "traceback": [
      "\u001b[0;31m---------------------------------------------------------------------------\u001b[0m",
      "\u001b[0;31mModuleNotFoundError\u001b[0m                       Traceback (most recent call last)",
      "\u001b[0;32m<ipython-input-7-80bd614636df>\u001b[0m in \u001b[0;36m<module>\u001b[0;34m\u001b[0m\n\u001b[1;32m      1\u001b[0m \u001b[0;32mimport\u001b[0m \u001b[0mos\u001b[0m\u001b[0;34m\u001b[0m\u001b[0;34m\u001b[0m\u001b[0m\n\u001b[0;32m----> 2\u001b[0;31m \u001b[0;32mimport\u001b[0m \u001b[0mnumpy\u001b[0m \u001b[0;32mas\u001b[0m \u001b[0mnp\u001b[0m\u001b[0;34m\u001b[0m\u001b[0;34m\u001b[0m\u001b[0m\n\u001b[0m\u001b[1;32m      3\u001b[0m \u001b[0;32mimport\u001b[0m \u001b[0mpandas\u001b[0m \u001b[0;32mas\u001b[0m \u001b[0mpd\u001b[0m\u001b[0;34m\u001b[0m\u001b[0;34m\u001b[0m\u001b[0m\n\u001b[1;32m      4\u001b[0m \u001b[0;32mfrom\u001b[0m \u001b[0mrandom\u001b[0m \u001b[0;32mimport\u001b[0m \u001b[0;34m*\u001b[0m\u001b[0;34m\u001b[0m\u001b[0;34m\u001b[0m\u001b[0m\n\u001b[1;32m      5\u001b[0m \u001b[0;32mimport\u001b[0m \u001b[0mjson\u001b[0m\u001b[0;34m\u001b[0m\u001b[0;34m\u001b[0m\u001b[0m\n",
      "\u001b[0;31mModuleNotFoundError\u001b[0m: No module named 'numpy'"
     ]
    }
   ],
   "source": [
    "import os\n",
    "import numpy as np\n",
    "import pandas as pd\n",
    "from random import *\n",
    "import json\n",
    "import joblib\n",
    "from IPython.display import display\n",
    "\n",
    "\n",
    "from app import jsonify, Response\n",
    "import xgboost as xgb\n",
    "from sklearn.preprocessing import MinMaxScaler, StandardScaler, RobustScaler\n",
    "from sklearn.model_selection import train_test_split\n",
    "\n",
    "def defaultOptimize():\n",
    "    df_00 = pd.read_csv(\"./boston_house.csv\")\n",
    "\n",
    "\n",
    "    ''' 변수 1 (MEDV)'''\n",
    "    MEDV = df_00['MEDV']\n",
    "\n",
    "    ''' X (그 외)'''\n",
    "    X = df_00.drop(['MEDV','CRIM'], axis = 1)\n",
    "    \n",
    "    X_mean = X.mean().round(2) #그 외 변수의 mean (평균)\n",
    "    X_std = X.std().round(1)*0.1 #그 외 변수의 std (표준편차)\n",
    "\n",
    "    X_info = pd.DataFrame({'mean':X_mean.values,'std':X_std.values})\n",
    "    randNumbers = []\n",
    "\n",
    "    # 난수를 생성함과 동시에 series로 형변환해서 randNumbers에 삽입\n",
    "    # randNumbers: series 난수들을 갖고 있는 배열\n",
    "    #  \n",
    "    for i,v in X_info.iterrows():\n",
    "        mean = v[0]\n",
    "        std = v[1]\n",
    "        randomized = np.random.normal(mean,std*0.01,1000)\n",
    "        randomized = pd.Series(randomized)\n",
    "        randNumbers.append(randomized)\n",
    "\n",
    "    X_final = pd.DataFrame(randNumbers)\n",
    "    X_final = X_final.transpose() # 컬럼과 인덱스 순서 변경\n",
    "    X_final.columns = X.columns # 컬럼명 주기\n",
    "    X_final['RAD'] = pd.Series(np.random.randint(df_00['RAD'].min(),df_00['RAD'].max()*0.8,1000))\n",
    "    X_final['CHAS'] = pd.Series(np.random.randint(0,1,1000))\n",
    "    display(X_final)\n",
    "  \n",
    "\n",
    "    ''' CRIM '''\n",
    "    CRIM = df_00['CRIM']\n",
    "\n",
    "    CRIM_min = CRIM.min()\n",
    "    CRIM_max = CRIM.max()\n",
    "    # print('y_max',y_max)\n",
    "    CRIM_rand = np.random.uniform(CRIM_min,CRIM_max,1000)\n",
    "    CRIM_final = pd.Series(CRIM_rand)\n",
    "    X_final['CRIM'] = CRIM_final\n",
    "\n",
    "    ## NORMALIZATION ##\n",
    "    file_name = 'scaler_xgboost.pkl'\n",
    "    scalerX= joblib.load(file_name) \n",
    "    X_final_n = scalerX.transform(X_final)\n",
    "\n",
    "\n",
    "    '''시작'''\n",
    "\n",
    "    xgb_model = xgb.XGBRegressor(n_estimators = 500, \n",
    "                            learning_rate = 0.08, \n",
    "                            gamma = 0.3, \n",
    "                            eta = 0.04,\n",
    "                            subsample = 0.75,\n",
    "                            colsample_bytree = 0.5, \n",
    "                            max_depth = 7)\n",
    "\n",
    "    xgb_model.load_model(\"model.json\")\n",
    "    xgb_model_predict_x = xgb_model.predict(X_final_n)\n",
    "\n",
    "    X_final['MEDV'] = xgb_model_predict_x\n",
    "    totalFinal = X_final.sort_values(by='CRIM')\n",
    "    print(totalFinal)\n",
    "    \n",
    "\n",
    "    return jsonify({\"MEDV_predict\":totalFinal['MEDV'].tolist(),\"CRIM_simulated\":totalFinal['CRIM'].tolist()})"
   ]
  },
  {
   "cell_type": "code",
   "execution_count": 10,
   "id": "2b77cd81",
   "metadata": {},
   "outputs": [
    {
     "name": "stdout",
     "output_type": "stream",
     "text": [
      "Untitled.ipynb         \u001b[34m__pycache__\u001b[m\u001b[m            defaultOptimization.py\r\n"
     ]
    }
   ],
   "source": [
    "! ls"
   ]
  }
 ],
 "metadata": {
  "kernelspec": {
   "display_name": "Python 3",
   "language": "python",
   "name": "python3"
  },
  "language_info": {
   "codemirror_mode": {
    "name": "ipython",
    "version": 3
   },
   "file_extension": ".py",
   "mimetype": "text/x-python",
   "name": "python",
   "nbconvert_exporter": "python",
   "pygments_lexer": "ipython3",
   "version": "3.7.10"
  }
 },
 "nbformat": 4,
 "nbformat_minor": 5
}
